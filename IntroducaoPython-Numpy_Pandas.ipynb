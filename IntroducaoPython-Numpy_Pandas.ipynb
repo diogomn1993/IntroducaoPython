{
 "cells": [
  {
   "cell_type": "markdown",
   "metadata": {},
   "source": [
    "# Introdução ao Python"
   ]
  },
  {
   "cell_type": "markdown",
   "metadata": {},
   "source": [
    "## Características Básicas da Linguagem"
   ]
  },
  {
   "cell_type": "markdown",
   "metadata": {},
   "source": [
    "### Operações matemáticas"
   ]
  },
  {
   "cell_type": "markdown",
   "metadata": {},
   "source": [
    "#### Adição (+)"
   ]
  },
  {
   "cell_type": "code",
   "execution_count": 55,
   "metadata": {},
   "outputs": [
    {
     "data": {
      "text/plain": [
       "27"
      ]
     },
     "execution_count": 55,
     "metadata": {},
     "output_type": "execute_result"
    }
   ],
   "source": [
    "2+25"
   ]
  },
  {
   "cell_type": "markdown",
   "metadata": {},
   "source": [
    "#### Subtração (-)"
   ]
  },
  {
   "cell_type": "code",
   "execution_count": 56,
   "metadata": {},
   "outputs": [
    {
     "data": {
      "text/plain": [
       "-65"
      ]
     },
     "execution_count": 56,
     "metadata": {},
     "output_type": "execute_result"
    }
   ],
   "source": [
    "3-68"
   ]
  },
  {
   "cell_type": "markdown",
   "metadata": {},
   "source": [
    "#### Divisão (/) e (//)\n",
    "\n",
    "A operação divisão sempre retorna um número de ponto flutuante"
   ]
  },
  {
   "cell_type": "code",
   "execution_count": 57,
   "metadata": {},
   "outputs": [
    {
     "data": {
      "text/plain": [
       "2.4"
      ]
     },
     "execution_count": 57,
     "metadata": {},
     "output_type": "execute_result"
    }
   ],
   "source": [
    "12/5"
   ]
  },
  {
   "cell_type": "code",
   "execution_count": 58,
   "metadata": {},
   "outputs": [
    {
     "data": {
      "text/plain": [
       "2"
      ]
     },
     "execution_count": 58,
     "metadata": {},
     "output_type": "execute_result"
    }
   ],
   "source": [
    "12//5"
   ]
  },
  {
   "cell_type": "code",
   "execution_count": 59,
   "metadata": {},
   "outputs": [
    {
     "data": {
      "text/plain": [
       "float"
      ]
     },
     "execution_count": 59,
     "metadata": {},
     "output_type": "execute_result"
    }
   ],
   "source": [
    "type(12/5)"
   ]
  },
  {
   "cell_type": "markdown",
   "metadata": {},
   "source": [
    "#### Exponenciação (**)"
   ]
  },
  {
   "cell_type": "code",
   "execution_count": 60,
   "metadata": {},
   "outputs": [
    {
     "data": {
      "text/plain": [
       "8"
      ]
     },
     "execution_count": 60,
     "metadata": {},
     "output_type": "execute_result"
    }
   ],
   "source": [
    "2**3"
   ]
  },
  {
   "cell_type": "markdown",
   "metadata": {},
   "source": [
    "#### Resto da divisão (%)\n",
    "\n",
    "Serva para saber se um valor é divisível ou multiplo de outro"
   ]
  },
  {
   "cell_type": "code",
   "execution_count": 61,
   "metadata": {},
   "outputs": [],
   "source": [
    "# Para um valor se divisível por outro, a operação resto da divisão será 0\n",
    "\n",
    "# Criação da função que averigua e retorna se um valor x é multiplo de um valor y\n",
    "def multiplo (x,y):\n",
    "    if x%y == 0:\n",
    "        print(x,'é múltiplo de', y)\n",
    "    else:\n",
    "        print(x,'não é múltiplo de', y)"
   ]
  },
  {
   "cell_type": "code",
   "execution_count": 62,
   "metadata": {},
   "outputs": [
    {
     "name": "stdout",
     "output_type": "stream",
     "text": [
      "4 é múltiplo de 2\n",
      "357 não é múltiplo de 4\n"
     ]
    }
   ],
   "source": [
    "multiplo(4,2)\n",
    "multiplo(357,4)"
   ]
  },
  {
   "cell_type": "markdown",
   "metadata": {},
   "source": [
    "#### Expressões Matemáticas"
   ]
  },
  {
   "cell_type": "code",
   "execution_count": 63,
   "metadata": {},
   "outputs": [
    {
     "data": {
      "text/plain": [
       "20"
      ]
     },
     "execution_count": 63,
     "metadata": {},
     "output_type": "execute_result"
    }
   ],
   "source": [
    "2**2+4*4"
   ]
  },
  {
   "cell_type": "code",
   "execution_count": 64,
   "metadata": {},
   "outputs": [
    {
     "data": {
      "text/plain": [
       "0"
      ]
     },
     "execution_count": 64,
     "metadata": {},
     "output_type": "execute_result"
    }
   ],
   "source": [
    "10%2+3//10"
   ]
  },
  {
   "cell_type": "code",
   "execution_count": 65,
   "metadata": {},
   "outputs": [
    {
     "data": {
      "text/plain": [
       "12.5"
      ]
     },
     "execution_count": 65,
     "metadata": {},
     "output_type": "execute_result"
    }
   ],
   "source": [
    "5*(2+3)/2"
   ]
  },
  {
   "cell_type": "code",
   "execution_count": 66,
   "metadata": {},
   "outputs": [
    {
     "data": {
      "text/plain": [
       "32"
      ]
     },
     "execution_count": 66,
     "metadata": {},
     "output_type": "execute_result"
    }
   ],
   "source": [
    "2**3*4"
   ]
  },
  {
   "cell_type": "markdown",
   "metadata": {},
   "source": [
    "#### A variável _\n",
    "\n",
    "Quando o _ (underscore) aparece ele se refere ao último valor impresso. Ou seja, o último valor impresso é atribuído a ele"
   ]
  },
  {
   "cell_type": "code",
   "execution_count": 67,
   "metadata": {},
   "outputs": [
    {
     "data": {
      "text/plain": [
       "10"
      ]
     },
     "execution_count": 67,
     "metadata": {},
     "output_type": "execute_result"
    }
   ],
   "source": [
    "5*2"
   ]
  },
  {
   "cell_type": "code",
   "execution_count": 68,
   "metadata": {},
   "outputs": [
    {
     "data": {
      "text/plain": [
       "15"
      ]
     },
     "execution_count": 68,
     "metadata": {},
     "output_type": "execute_result"
    }
   ],
   "source": [
    "_+5"
   ]
  },
  {
   "cell_type": "code",
   "execution_count": 69,
   "metadata": {},
   "outputs": [
    {
     "data": {
      "text/plain": [
       "5.0"
      ]
     },
     "execution_count": 69,
     "metadata": {},
     "output_type": "execute_result"
    }
   ],
   "source": [
    "_/3"
   ]
  },
  {
   "cell_type": "code",
   "execution_count": 70,
   "metadata": {},
   "outputs": [
    {
     "name": "stdout",
     "output_type": "stream",
     "text": [
      "Hello World\n"
     ]
    }
   ],
   "source": [
    "print('Hello World')"
   ]
  },
  {
   "cell_type": "code",
   "execution_count": 71,
   "metadata": {},
   "outputs": [
    {
     "name": "stdout",
     "output_type": "stream",
     "text": [
      "5.0\n"
     ]
    }
   ],
   "source": [
    "print(_)"
   ]
  },
  {
   "cell_type": "markdown",
   "metadata": {},
   "source": [
    "Como é possível observar a variável _ não acumula string"
   ]
  },
  {
   "cell_type": "markdown",
   "metadata": {},
   "source": [
    "# Trabalhando com arrays Numpy"
   ]
  },
  {
   "cell_type": "code",
   "execution_count": null,
   "metadata": {},
   "outputs": [],
   "source": [
    "#Instalação do pacote Numpy\n",
    "%pip install numpy"
   ]
  },
  {
   "cell_type": "code",
   "execution_count": 73,
   "metadata": {},
   "outputs": [],
   "source": [
    "#Importação do pacote Numpy\n",
    "import numpy as np"
   ]
  },
  {
   "cell_type": "code",
   "execution_count": 74,
   "metadata": {},
   "outputs": [],
   "source": [
    "anos = np.loadtxt(\"D:\\\\Python\\\\carros-anos.txt\")\n",
    "km = np.loadtxt(\"D:\\\\Python\\\\carros-km.txt\")\n",
    "valor = np.loadtxt(\"D:\\\\Python\\\\carros-valor.txt\")\n",
    "zero_km = np.loadtxt(\"D:\\\\Python\\\\carros-zero-km.txt\")"
   ]
  },
  {
   "cell_type": "code",
   "execution_count": 75,
   "metadata": {},
   "outputs": [
    {
     "data": {
      "text/plain": [
       "array([[  2003.  ,  44410.  ,  88078.64,      0.  ],\n",
       "       [  1991.  ,   5712.  , 106161.94,      0.  ],\n",
       "       [  1990.  ,  37123.  ,  72832.16,      0.  ],\n",
       "       ...,\n",
       "       [  2002.  ,  52637.  ,  68934.03,      0.  ],\n",
       "       [  1996.  ,   7685.  , 122110.9 ,      0.  ],\n",
       "       [  1992.  ,  50188.  ,  90381.47,      0.  ]])"
      ]
     },
     "execution_count": 75,
     "metadata": {},
     "output_type": "execute_result"
    }
   ],
   "source": [
    "dataset = np.column_stack((anos,km,valor,zero_km))\n",
    "dataset"
   ]
  },
  {
   "cell_type": "code",
   "execution_count": 76,
   "metadata": {},
   "outputs": [
    {
     "data": {
      "text/plain": [
       "(258, 4)"
      ]
     },
     "execution_count": 76,
     "metadata": {},
     "output_type": "execute_result"
    }
   ],
   "source": [
    "dataset.shape"
   ]
  },
  {
   "cell_type": "markdown",
   "metadata": {},
   "source": [
    "# Cálculos estatísticos"
   ]
  },
  {
   "cell_type": "markdown",
   "metadata": {},
   "source": [
    "### Média\n",
    "\n",
    "np.mean() -> Retorna a média dos elementos do array ao longo do eixo especificado"
   ]
  },
  {
   "cell_type": "code",
   "execution_count": 77,
   "metadata": {},
   "outputs": [
    {
     "data": {
      "text/plain": [
       "48489.14648578811"
      ]
     },
     "execution_count": 77,
     "metadata": {},
     "output_type": "execute_result"
    }
   ],
   "source": [
    "# Média de todos os valores do dataset excluindo a última coluna que é a variável booleana\n",
    "np.mean(dataset[:,0:3])"
   ]
  },
  {
   "cell_type": "code",
   "execution_count": 78,
   "metadata": {},
   "outputs": [
    {
     "data": {
      "text/plain": [
       "array([ 2007.51162791, 44499.41472868, 98960.51310078])"
      ]
     },
     "execution_count": 78,
     "metadata": {},
     "output_type": "execute_result"
    }
   ],
   "source": [
    "# Média de cada coluna do dataset excluindo a última coluna que é a variável booleana\n",
    "np.mean(dataset[:,0:3],axis=0)"
   ]
  },
  {
   "cell_type": "code",
   "execution_count": 79,
   "metadata": {},
   "outputs": [
    {
     "data": {
      "text/plain": [
       "array([44830.54666667, 37954.98      , 37315.05333333, 42189.35666667,\n",
       "       40125.03333333, 36745.91      , 19488.06666667, 63972.81333333,\n",
       "       73974.42333333, 38851.83      , 28836.19666667, 27992.84333333,\n",
       "       68168.99666667, 18400.79333333, 56984.80666667, 59177.8       ,\n",
       "       36526.53      , 30190.46333333, 33932.89666667, 39638.76666667,\n",
       "       69780.79333333, 32194.46666667, 77867.61333333, 76878.21666667,\n",
       "       41205.07      , 24462.03333333, 34386.25      , 35817.28      ,\n",
       "       39298.42333333, 72268.23333333, 34289.06666667, 41477.39333333,\n",
       "       26365.56333333, 33918.13333333, 50905.01      , 54959.84      ,\n",
       "       17875.19666667, 41766.95666667, 25768.39333333, 34876.18      ,\n",
       "       54475.06333333, 59333.43      , 29553.44666667, 75040.79666667,\n",
       "       39881.91      , 22655.23333333, 52057.21666667, 31725.88333333,\n",
       "       22240.03333333, 69567.49666667, 78571.96333333, 61600.27666667,\n",
       "       69114.54333333, 58791.90333333, 31242.99666667, 51282.34333333,\n",
       "       83404.74333333, 45116.06333333, 44660.14333333, 38017.42333333,\n",
       "       27806.11666667, 33060.7       , 62306.38666667, 59765.40666667,\n",
       "       81845.34      , 78191.71      , 22848.53666667, 68881.29      ,\n",
       "       48137.25      , 59285.30333333, 49427.22666667, 61650.01      ,\n",
       "       44891.83      , 37390.34666667, 41392.74333333, 60347.97333333,\n",
       "       69056.62      , 39633.07      , 49072.23333333, 17587.03333333,\n",
       "       29306.51      , 45315.62333333, 48374.81666667, 36102.16666667,\n",
       "       22175.57333333, 39031.53      , 84253.53333333, 85829.28666667,\n",
       "       34133.09333333, 42960.68      , 73161.28      , 79828.89      ,\n",
       "       37537.84666667, 54106.79333333, 48191.20333333, 43484.59333333,\n",
       "       71371.78333333, 39550.22      , 72328.87666667, 31748.91      ,\n",
       "       47492.21666667, 70730.55666667, 41345.14      , 55341.32666667,\n",
       "       38992.84666667, 42828.80666667, 40068.11333333, 68787.83333333,\n",
       "       28917.21      , 65870.42      , 38429.11333333, 52772.62666667,\n",
       "       61426.57333333, 25396.1       , 38915.56      , 50833.16      ,\n",
       "       27467.08      , 50392.05666667, 33143.80333333, 81545.07333333,\n",
       "       64189.28333333, 79244.98333333, 81510.33      , 57102.41      ,\n",
       "       46872.09      , 76604.60333333, 21672.67333333, 50487.81333333,\n",
       "       71054.97333333, 32513.65      , 20181.47      , 49761.01666667,\n",
       "       49929.95666667, 65050.57      , 37248.96      , 67911.48333333,\n",
       "       58226.97666667, 35352.59666667, 41016.18      , 61722.00666667,\n",
       "       29414.36666667, 53625.06      , 50338.49      , 20989.00333333,\n",
       "       62485.48      , 59852.44333333, 54886.56333333, 31446.68666667,\n",
       "       30376.29666667, 86387.97      , 64780.35      , 24714.41666667,\n",
       "       70279.43333333, 37624.04      , 75914.40333333, 47716.93666667,\n",
       "       40867.31666667, 62235.10666667, 49474.93      , 28006.07      ,\n",
       "       74171.2       , 64188.27      , 49625.03666667, 37769.10333333,\n",
       "       57331.72666667, 74211.37333333, 46805.12333333, 56262.85666667,\n",
       "       55737.34666667, 59100.03666667, 38904.82333333, 46087.74666667,\n",
       "       74438.25333333, 64900.46666667, 21850.70333333, 42058.55      ,\n",
       "       55381.78      , 19490.98      , 62604.26333333, 38050.87      ,\n",
       "       49523.50666667, 25762.94      , 67595.09      , 52038.99      ,\n",
       "       63322.77333333, 30473.36666667, 19620.59666667, 66956.90333333,\n",
       "       58360.32      , 33103.06      , 47672.52      , 38817.98      ,\n",
       "       72377.89666667, 43577.05333333, 58144.59      , 29673.65666667,\n",
       "       53543.43333333, 56605.13      , 23476.21666667, 36848.30333333,\n",
       "       43014.58333333, 45854.        , 41242.57666667, 57889.89333333,\n",
       "       19969.03333333, 62951.82666667, 72070.02      , 43471.70333333,\n",
       "       49716.20333333, 53482.79333333, 47128.72      , 25883.10666667,\n",
       "       55649.37      , 52707.11      , 24684.5       , 41834.39666667,\n",
       "       38850.24666667, 75554.20333333, 77459.42      , 54963.18333333,\n",
       "       52296.34666667, 39259.72333333, 78077.        , 38718.11666667,\n",
       "       55840.26666667, 38271.21      , 71540.11666667, 35022.25333333,\n",
       "       28898.33666667, 54658.91333333, 57520.39333333, 65274.21333333,\n",
       "       65763.68666667, 27941.25      , 23855.34333333, 30720.15666667,\n",
       "       43897.78666667, 23186.26333333, 23227.95333333, 60894.05333333,\n",
       "       69524.24666667, 85480.02666667, 42755.61333333, 43623.73666667,\n",
       "       47896.58666667, 43811.44333333, 48871.94      , 46260.76666667,\n",
       "       26564.93      , 50192.22333333, 47490.99666667, 72976.14666667,\n",
       "       70304.87333333, 27092.86      , 27879.68666667, 41191.01      ,\n",
       "       43930.63333333, 47520.49      ])"
      ]
     },
     "execution_count": 79,
     "metadata": {},
     "output_type": "execute_result"
    }
   ],
   "source": [
    "# Média cada linha do dataset, excluindo a última coluna que é a variável boolena\n",
    "np.mean(dataset[:,0:3], axis=1)"
   ]
  },
  {
   "cell_type": "code",
   "execution_count": 80,
   "metadata": {},
   "outputs": [
    {
     "data": {
      "text/plain": [
       "44499.41472868217"
      ]
     },
     "execution_count": 80,
     "metadata": {},
     "output_type": "execute_result"
    }
   ],
   "source": [
    "# Caso queira fazer o cálculo da média de uma coluna específica, basta i9ndexar qual coluna você quer\n",
    "# Média referente a coluna com a quilometragem dos carros\n",
    "np.mean(dataset[:,1])"
   ]
  },
  {
   "cell_type": "markdown",
   "metadata": {},
   "source": [
    "### Outras funções de cálculo\n",
    "\n",
    "np.std -> retorna o desvio padrão do elementos do array ao longo do eixo especificado\n",
    "\n",
    "np.sum ou ndarray.sum -> retorna a soma dos elementos do array ao longo do eixo específicado"
   ]
  },
  {
   "cell_type": "code",
   "execution_count": 81,
   "metadata": {},
   "outputs": [
    {
     "data": {
      "text/plain": [
       "array([9.70703915e+00, 3.98598270e+04, 2.97541012e+04])"
      ]
     },
     "execution_count": 81,
     "metadata": {},
     "output_type": "execute_result"
    }
   ],
   "source": [
    "# Cálculo dos desvios padrões das colunas do dataset excluindo a variável boolena\n",
    "np.std(dataset[:,0:3], axis=0)"
   ]
  },
  {
   "cell_type": "code",
   "execution_count": 82,
   "metadata": {},
   "outputs": [
    {
     "data": {
      "text/plain": [
       "array([  517938.        , 11480849.        , 25531812.37999999])"
      ]
     },
     "execution_count": 82,
     "metadata": {},
     "output_type": "execute_result"
    }
   ],
   "source": [
    "# Cálculo das somas das colunas do dataset excluindo a variável boolena\n",
    "np.sum(dataset[:,0:3], axis=0)"
   ]
  },
  {
   "cell_type": "code",
   "execution_count": 83,
   "metadata": {},
   "outputs": [
    {
     "data": {
      "text/plain": [
       "array([  517938.        , 11480849.        , 25531812.37999999])"
      ]
     },
     "execution_count": 83,
     "metadata": {},
     "output_type": "execute_result"
    }
   ],
   "source": [
    "# Cálculo das somas das colunas do dataset excluindo a variável boolena\n",
    "dataset[:,0:3].sum(axis=0)"
   ]
  },
  {
   "cell_type": "markdown",
   "metadata": {},
   "source": [
    "### Ainda é possível determinar a quantidade de carros novos e carros usados que temos\n",
    "\n",
    "Se zero_km = 0 -> carro usado\n",
    "\n",
    "Se zero_km = 1 -> carro novo"
   ]
  },
  {
   "cell_type": "code",
   "execution_count": 84,
   "metadata": {},
   "outputs": [
    {
     "name": "stdout",
     "output_type": "stream",
     "text": [
      "Temos um quantitativo de  61 carros novos\n",
      "Temos um quantitativo de  197 carros usados\n"
     ]
    }
   ],
   "source": [
    "#Exemplo da aplicação das extruturas de repetição e condicional\n",
    "carro_novo = 0\n",
    "carro_usado = 0\n",
    "for i in dataset[:,3]:\n",
    "    if i == 1:\n",
    "        carro_novo += 1\n",
    "    else:\n",
    "        carro_usado += 1\n",
    "\n",
    "print('Temos um quantitativo de ',carro_novo, 'carros novos')\n",
    "print('Temos um quantitativo de ',carro_usado, 'carros usados')"
   ]
  },
  {
   "cell_type": "code",
   "execution_count": 85,
   "metadata": {},
   "outputs": [
    {
     "name": "stdout",
     "output_type": "stream",
     "text": [
      "Temos um quantitativo de  61 carros novos\n",
      "Temos um quantitativo de  197 carros usados\n"
     ]
    }
   ],
   "source": [
    "#Exemplo de aplicação da função sum\n",
    "print('Temos um quantitativo de ',sum(dataset[:,3]==1), 'carros novos')\n",
    "print('Temos um quantitativo de ',sum(dataset[:,3]==0), 'carros usados')"
   ]
  },
  {
   "cell_type": "code",
   "execution_count": 86,
   "metadata": {},
   "outputs": [
    {
     "data": {
      "text/plain": [
       "array([2.46722222e+03, 1.90400000e+02, 1.19751613e+03, 0.00000000e+00,\n",
       "       1.71713333e+03, 1.19200000e+03, 0.00000000e+00, 6.46658333e+03,\n",
       "       9.01790909e+03, 3.79780000e+03, 6.76789474e+02, 5.75142857e+02,\n",
       "       4.48865000e+03, 0.00000000e+00, 3.45475000e+03, 2.31214000e+04,\n",
       "       5.16100000e+03, 0.00000000e+00, 7.41720000e+03, 3.79325000e+03,\n",
       "       5.32594737e+03, 0.00000000e+00, 3.63255556e+03, 3.43196667e+03,\n",
       "       0.00000000e+00, 0.00000000e+00, 1.15900000e+03, 0.00000000e+00,\n",
       "       3.09726316e+03, 3.14603333e+03, 1.25679167e+03, 2.05123077e+03,\n",
       "       5.90666667e+03, 1.12693333e+03, 1.29548571e+04, 1.69134615e+03,\n",
       "       0.00000000e+00, 0.00000000e+00, 4.60500000e+02, 0.00000000e+00,\n",
       "       1.16768750e+04, 2.26455556e+03, 0.00000000e+00, 4.54221053e+03,\n",
       "       0.00000000e+00, 5.13421053e+02, 4.11441176e+03, 1.19750000e+02,\n",
       "       0.00000000e+00, 4.46383333e+03, 7.12950000e+03, 3.36640000e+03,\n",
       "       3.22457143e+03, 6.26313333e+03, 3.21318182e+03, 3.00025926e+03,\n",
       "       8.53664286e+03, 0.00000000e+00, 0.00000000e+00, 0.00000000e+00,\n",
       "       0.00000000e+00, 0.00000000e+00, 2.97237500e+04, 4.85090000e+03,\n",
       "       5.04560000e+03, 3.82596000e+03, 0.00000000e+00, 3.35166667e+03,\n",
       "       0.00000000e+00, 2.08085714e+03, 8.81555556e+02, 6.07085714e+03,\n",
       "       2.26645833e+03, 1.78206667e+03, 5.54112500e+03, 4.37911111e+03,\n",
       "       8.75446154e+03, 4.69230769e+01, 0.00000000e+00, 0.00000000e+00,\n",
       "       5.85772727e+02, 5.68621429e+03, 3.24728571e+03, 1.64357692e+03,\n",
       "       0.00000000e+00, 0.00000000e+00, 2.35428000e+04, 1.13885000e+04,\n",
       "       0.00000000e+00, 1.60584211e+03, 9.35837500e+03, 2.99400000e+04,\n",
       "       1.67120000e+03, 4.94207692e+03, 2.95536667e+04, 2.52166667e+02,\n",
       "       6.11755556e+03, 1.95382353e+03, 8.36372727e+03, 0.00000000e+00,\n",
       "       5.44720000e+03, 3.53205000e+03, 0.00000000e+00, 1.52128333e+04,\n",
       "       8.84800000e+03, 1.31490000e+04, 1.63803448e+03, 4.45280000e+03,\n",
       "       1.02978571e+03, 4.25246154e+03, 3.14655556e+03, 2.47957143e+03,\n",
       "       5.69346154e+03, 1.89950000e+03, 0.00000000e+00, 2.70525000e+03,\n",
       "       0.00000000e+00, 0.00000000e+00, 6.39666667e+02, 1.65086667e+04,\n",
       "       3.74207143e+03, 7.49656250e+03, 2.40012500e+04, 1.37560870e+03,\n",
       "       0.00000000e+00, 3.64486364e+03, 0.00000000e+00, 4.85100000e+03,\n",
       "       3.42622222e+03, 1.18581481e+03, 0.00000000e+00, 2.10903704e+03,\n",
       "       0.00000000e+00, 1.44198333e+04, 1.92840000e+02, 4.20937500e+03,\n",
       "       1.09660714e+03, 0.00000000e+00, 1.12258621e+03, 3.97650000e+03,\n",
       "       0.00000000e+00, 1.78351613e+03, 0.00000000e+00, 0.00000000e+00,\n",
       "       3.86433333e+03, 2.14312903e+03, 1.07555556e+04, 1.01692857e+03,\n",
       "       2.48700000e+03, 5.38309524e+03, 6.04957895e+03, 1.26920000e+02,\n",
       "       3.34444000e+03, 4.22600000e+03, 3.16550000e+03, 2.89250000e+02,\n",
       "       3.28375000e+02, 4.33616667e+03, 0.00000000e+00, 0.00000000e+00,\n",
       "       4.18826316e+03, 4.50837500e+03, 3.32404348e+03, 3.39311765e+03,\n",
       "       3.86440000e+03, 1.81668333e+04, 5.24240000e+03, 2.87318750e+03,\n",
       "       2.23554545e+03, 1.91950000e+03, 1.37928571e+03, 3.58800000e+03,\n",
       "       9.23925000e+03, 4.66921739e+03, 3.04866667e+03, 0.00000000e+00,\n",
       "       5.97466667e+03, 0.00000000e+00, 3.77254839e+03, 1.70633333e+03,\n",
       "       1.70335484e+03, 5.89933333e+02, 4.82757895e+03, 1.06853333e+03,\n",
       "       2.58227586e+03, 0.00000000e+00, 0.00000000e+00, 3.26181250e+03,\n",
       "       7.59627273e+03, 0.00000000e+00, 4.06560000e+03, 0.00000000e+00,\n",
       "       6.87063636e+03, 1.24662963e+03, 5.21705000e+03, 3.64428571e+03,\n",
       "       7.58600000e+02, 3.11289286e+03, 2.37571429e+02, 2.78690000e+03,\n",
       "       0.00000000e+00, 0.00000000e+00, 0.00000000e+00, 4.59428571e+03,\n",
       "       0.00000000e+00, 1.37356000e+04, 1.02424286e+04, 0.00000000e+00,\n",
       "       5.79716667e+03, 5.62866667e+03, 3.40508000e+03, 7.16105263e+02,\n",
       "       2.22793750e+03, 3.65876923e+03, 6.38454545e+02, 2.57462500e+03,\n",
       "       0.00000000e+00, 4.00416667e+03, 3.35161290e+03, 2.19070000e+03,\n",
       "       3.07975000e+03, 0.00000000e+00, 2.77415000e+04, 1.59870000e+03,\n",
       "       3.33556250e+03, 7.19785714e+02, 2.55514286e+03, 3.56666667e+00,\n",
       "       2.79800000e+02, 1.72908333e+03, 5.52390476e+03, 7.20414286e+03,\n",
       "       4.49833333e+03, 1.41616667e+03, 3.40000000e+02, 0.00000000e+00,\n",
       "       2.34148000e+03, 0.00000000e+00, 0.00000000e+00, 1.60022857e+04,\n",
       "       5.40235294e+03, 8.67592308e+03, 0.00000000e+00, 0.00000000e+00,\n",
       "       1.03255556e+03, 0.00000000e+00, 2.20332000e+03, 4.87960000e+03,\n",
       "       0.00000000e+00, 8.15318182e+03, 6.09885714e+03, 3.63362963e+03,\n",
       "       5.09142857e+03, 3.92928571e+03, 9.99366667e+02, 2.77036842e+03,\n",
       "       3.07400000e+02, 1.73062069e+03])"
      ]
     },
     "execution_count": 86,
     "metadata": {},
     "output_type": "execute_result"
    }
   ],
   "source": [
    "#Criação da coluna que vai conter os dados da quilometragem média para cada veículo\n",
    "km_media = km/(2021-anos)\n",
    "km_media"
   ]
  },
  {
   "cell_type": "code",
   "execution_count": 87,
   "metadata": {},
   "outputs": [
    {
     "data": {
      "text/plain": [
       "array([[  2003.        ,  44410.        ,  88078.64      ,\n",
       "             0.        ,   2467.22222222],\n",
       "       [  1991.        ,   5712.        , 106161.94      ,\n",
       "             0.        ,    190.4       ],\n",
       "       [  1990.        ,  37123.        ,  72832.16      ,\n",
       "             0.        ,   1197.51612903],\n",
       "       ...,\n",
       "       [  2002.        ,  52637.        ,  68934.03      ,\n",
       "             0.        ,   2770.36842105],\n",
       "       [  1996.        ,   7685.        , 122110.9       ,\n",
       "             0.        ,    307.4       ],\n",
       "       [  1992.        ,  50188.        ,  90381.47      ,\n",
       "             0.        ,   1730.62068966]])"
      ]
     },
     "execution_count": 87,
     "metadata": {},
     "output_type": "execute_result"
    }
   ],
   "source": [
    "carros_info = np.column_stack((dataset,km_media))\n",
    "carros_info"
   ]
  },
  {
   "cell_type": "code",
   "execution_count": 88,
   "metadata": {},
   "outputs": [
    {
     "name": "stdout",
     "output_type": "stream",
     "text": [
      "O carro que teve maior quilometragem média rodou em média 29940.0 km/ano\n"
     ]
    }
   ],
   "source": [
    "#Determinação do carro com maior quilometragem média\n",
    "print('O carro que teve maior quilometragem média rodou em média',max(carros_info[:,4]),'km/ano')"
   ]
  },
  {
   "cell_type": "markdown",
   "metadata": {},
   "source": [
    "Como podemos ver a biblioteca Numpy é muito útil para cálculos matemáticos, porém tem uma limitação que é o uso de apenas valores numéricos em sua operação. No cenário acima seria interessante saber qual modelo de carro tem a mior quilometragem rodada.\n",
    "\n",
    "Sendo assim vamos agora conhecer um pouco outro pacote do Python que é o pandas."
   ]
  },
  {
   "cell_type": "code",
   "execution_count": null,
   "metadata": {},
   "outputs": [],
   "source": [
    "#Instalação do pacote Pandas\n",
    "%pip install pandas"
   ]
  },
  {
   "cell_type": "code",
   "execution_count": 90,
   "metadata": {},
   "outputs": [],
   "source": [
    "#Importação do pacote Pandas e nomeando ele como pd\n",
    "import pandas as pd"
   ]
  },
  {
   "cell_type": "markdown",
   "metadata": {},
   "source": [
    "# Criação de DataFrames\n",
    "\n",
    "Como já temos alguns vetores com os dados que temos interesse, vamos criar um DataFrame com todos os dados acerca dos carros, agora incluindo o modelo de cada um"
   ]
  },
  {
   "cell_type": "code",
   "execution_count": 91,
   "metadata": {},
   "outputs": [
    {
     "data": {
      "text/html": [
       "<div>\n",
       "<style scoped>\n",
       "    .dataframe tbody tr th:only-of-type {\n",
       "        vertical-align: middle;\n",
       "    }\n",
       "\n",
       "    .dataframe tbody tr th {\n",
       "        vertical-align: top;\n",
       "    }\n",
       "\n",
       "    .dataframe thead th {\n",
       "        text-align: right;\n",
       "    }\n",
       "</style>\n",
       "<table border=\"1\" class=\"dataframe\">\n",
       "  <thead>\n",
       "    <tr style=\"text-align: right;\">\n",
       "      <th></th>\n",
       "      <th>0</th>\n",
       "    </tr>\n",
       "  </thead>\n",
       "  <tbody>\n",
       "    <tr>\n",
       "      <th>0</th>\n",
       "      <td>Jetta Variant\\n</td>\n",
       "    </tr>\n",
       "    <tr>\n",
       "      <th>1</th>\n",
       "      <td>Passat\\n</td>\n",
       "    </tr>\n",
       "    <tr>\n",
       "      <th>2</th>\n",
       "      <td>Crossfox\\n</td>\n",
       "    </tr>\n",
       "    <tr>\n",
       "      <th>3</th>\n",
       "      <td>DS5\\n</td>\n",
       "    </tr>\n",
       "    <tr>\n",
       "      <th>4</th>\n",
       "      <td>Aston Martin DB4\\n</td>\n",
       "    </tr>\n",
       "    <tr>\n",
       "      <th>...</th>\n",
       "      <td>...</td>\n",
       "    </tr>\n",
       "    <tr>\n",
       "      <th>253</th>\n",
       "      <td>Phantom 2013\\n</td>\n",
       "    </tr>\n",
       "    <tr>\n",
       "      <th>254</th>\n",
       "      <td>Cadillac Ciel concept\\n</td>\n",
       "    </tr>\n",
       "    <tr>\n",
       "      <th>255</th>\n",
       "      <td>Classe GLK\\n</td>\n",
       "    </tr>\n",
       "    <tr>\n",
       "      <th>256</th>\n",
       "      <td>Aston Martin DB5\\n</td>\n",
       "    </tr>\n",
       "    <tr>\n",
       "      <th>257</th>\n",
       "      <td>Macan\\n</td>\n",
       "    </tr>\n",
       "  </tbody>\n",
       "</table>\n",
       "<p>258 rows × 1 columns</p>\n",
       "</div>"
      ],
      "text/plain": [
       "                           0\n",
       "0            Jetta Variant\\n\n",
       "1                   Passat\\n\n",
       "2                 Crossfox\\n\n",
       "3                      DS5\\n\n",
       "4         Aston Martin DB4\\n\n",
       "..                       ...\n",
       "253           Phantom 2013\\n\n",
       "254  Cadillac Ciel concept\\n\n",
       "255             Classe GLK\\n\n",
       "256       Aston Martin DB5\\n\n",
       "257                  Macan\\n\n",
       "\n",
       "[258 rows x 1 columns]"
      ]
     },
     "execution_count": 91,
     "metadata": {},
     "output_type": "execute_result"
    }
   ],
   "source": [
    "#Leitura de arquivo txt que está alocado em uma pasta local na máquina\n",
    "nomes = open(\"D:\\\\Python\\\\carros-nomes.txt\",'r')\n",
    "nomes = pd.DataFrame(nomes)\n",
    "nomes"
   ]
  },
  {
   "cell_type": "code",
   "execution_count": 92,
   "metadata": {},
   "outputs": [
    {
     "data": {
      "text/html": [
       "<div>\n",
       "<style scoped>\n",
       "    .dataframe tbody tr th:only-of-type {\n",
       "        vertical-align: middle;\n",
       "    }\n",
       "\n",
       "    .dataframe tbody tr th {\n",
       "        vertical-align: top;\n",
       "    }\n",
       "\n",
       "    .dataframe thead th {\n",
       "        text-align: right;\n",
       "    }\n",
       "</style>\n",
       "<table border=\"1\" class=\"dataframe\">\n",
       "  <thead>\n",
       "    <tr style=\"text-align: right;\">\n",
       "      <th></th>\n",
       "      <th>0</th>\n",
       "      <th>1</th>\n",
       "      <th>2</th>\n",
       "      <th>3</th>\n",
       "      <th>4</th>\n",
       "    </tr>\n",
       "  </thead>\n",
       "  <tbody>\n",
       "    <tr>\n",
       "      <th>0</th>\n",
       "      <td>2003.0</td>\n",
       "      <td>44410.0</td>\n",
       "      <td>2467.222222</td>\n",
       "      <td>0.0</td>\n",
       "      <td>88078.64</td>\n",
       "    </tr>\n",
       "    <tr>\n",
       "      <th>1</th>\n",
       "      <td>1991.0</td>\n",
       "      <td>5712.0</td>\n",
       "      <td>190.400000</td>\n",
       "      <td>0.0</td>\n",
       "      <td>106161.94</td>\n",
       "    </tr>\n",
       "    <tr>\n",
       "      <th>2</th>\n",
       "      <td>1990.0</td>\n",
       "      <td>37123.0</td>\n",
       "      <td>1197.516129</td>\n",
       "      <td>0.0</td>\n",
       "      <td>72832.16</td>\n",
       "    </tr>\n",
       "    <tr>\n",
       "      <th>3</th>\n",
       "      <td>2019.0</td>\n",
       "      <td>0.0</td>\n",
       "      <td>0.000000</td>\n",
       "      <td>1.0</td>\n",
       "      <td>124549.07</td>\n",
       "    </tr>\n",
       "    <tr>\n",
       "      <th>4</th>\n",
       "      <td>2006.0</td>\n",
       "      <td>25757.0</td>\n",
       "      <td>1717.133333</td>\n",
       "      <td>0.0</td>\n",
       "      <td>92612.10</td>\n",
       "    </tr>\n",
       "    <tr>\n",
       "      <th>...</th>\n",
       "      <td>...</td>\n",
       "      <td>...</td>\n",
       "      <td>...</td>\n",
       "      <td>...</td>\n",
       "      <td>...</td>\n",
       "    </tr>\n",
       "    <tr>\n",
       "      <th>253</th>\n",
       "      <td>2014.0</td>\n",
       "      <td>27505.0</td>\n",
       "      <td>3929.285714</td>\n",
       "      <td>0.0</td>\n",
       "      <td>51759.58</td>\n",
       "    </tr>\n",
       "    <tr>\n",
       "      <th>254</th>\n",
       "      <td>1991.0</td>\n",
       "      <td>29981.0</td>\n",
       "      <td>999.366667</td>\n",
       "      <td>0.0</td>\n",
       "      <td>51667.06</td>\n",
       "    </tr>\n",
       "    <tr>\n",
       "      <th>255</th>\n",
       "      <td>2002.0</td>\n",
       "      <td>52637.0</td>\n",
       "      <td>2770.368421</td>\n",
       "      <td>0.0</td>\n",
       "      <td>68934.03</td>\n",
       "    </tr>\n",
       "    <tr>\n",
       "      <th>256</th>\n",
       "      <td>1996.0</td>\n",
       "      <td>7685.0</td>\n",
       "      <td>307.400000</td>\n",
       "      <td>0.0</td>\n",
       "      <td>122110.90</td>\n",
       "    </tr>\n",
       "    <tr>\n",
       "      <th>257</th>\n",
       "      <td>1992.0</td>\n",
       "      <td>50188.0</td>\n",
       "      <td>1730.620690</td>\n",
       "      <td>0.0</td>\n",
       "      <td>90381.47</td>\n",
       "    </tr>\n",
       "  </tbody>\n",
       "</table>\n",
       "<p>258 rows × 5 columns</p>\n",
       "</div>"
      ],
      "text/plain": [
       "          0        1            2    3          4\n",
       "0    2003.0  44410.0  2467.222222  0.0   88078.64\n",
       "1    1991.0   5712.0   190.400000  0.0  106161.94\n",
       "2    1990.0  37123.0  1197.516129  0.0   72832.16\n",
       "3    2019.0      0.0     0.000000  1.0  124549.07\n",
       "4    2006.0  25757.0  1717.133333  0.0   92612.10\n",
       "..      ...      ...          ...  ...        ...\n",
       "253  2014.0  27505.0  3929.285714  0.0   51759.58\n",
       "254  1991.0  29981.0   999.366667  0.0   51667.06\n",
       "255  2002.0  52637.0  2770.368421  0.0   68934.03\n",
       "256  1996.0   7685.0   307.400000  0.0  122110.90\n",
       "257  1992.0  50188.0  1730.620690  0.0   90381.47\n",
       "\n",
       "[258 rows x 5 columns]"
      ]
     },
     "execution_count": 92,
     "metadata": {},
     "output_type": "execute_result"
    }
   ],
   "source": [
    "#Criação de um Data Frame a partir de vários arrays numpy\n",
    "#Essa função .T é para transpor a matriz, sem ela os arrays ficam nas linhas. Contudo o interessante é que cada vetor ocupe uma coluna, por isso devemos transpor a matriz\n",
    "carros_df = pd.DataFrame((anos,km,km_media,zero_km,valor)).T\n",
    "carros_df"
   ]
  },
  {
   "cell_type": "code",
   "execution_count": 93,
   "metadata": {},
   "outputs": [
    {
     "data": {
      "text/html": [
       "<div>\n",
       "<style scoped>\n",
       "    .dataframe tbody tr th:only-of-type {\n",
       "        vertical-align: middle;\n",
       "    }\n",
       "\n",
       "    .dataframe tbody tr th {\n",
       "        vertical-align: top;\n",
       "    }\n",
       "\n",
       "    .dataframe thead th {\n",
       "        text-align: right;\n",
       "    }\n",
       "</style>\n",
       "<table border=\"1\" class=\"dataframe\">\n",
       "  <thead>\n",
       "    <tr style=\"text-align: right;\">\n",
       "      <th></th>\n",
       "      <th>0</th>\n",
       "      <th>1</th>\n",
       "      <th>2</th>\n",
       "      <th>3</th>\n",
       "      <th>4</th>\n",
       "      <th>Nomes</th>\n",
       "    </tr>\n",
       "  </thead>\n",
       "  <tbody>\n",
       "    <tr>\n",
       "      <th>0</th>\n",
       "      <td>2003.0</td>\n",
       "      <td>44410.0</td>\n",
       "      <td>2467.222222</td>\n",
       "      <td>0.0</td>\n",
       "      <td>88078.64</td>\n",
       "      <td>Jetta Variant\\n</td>\n",
       "    </tr>\n",
       "    <tr>\n",
       "      <th>1</th>\n",
       "      <td>1991.0</td>\n",
       "      <td>5712.0</td>\n",
       "      <td>190.400000</td>\n",
       "      <td>0.0</td>\n",
       "      <td>106161.94</td>\n",
       "      <td>Passat\\n</td>\n",
       "    </tr>\n",
       "    <tr>\n",
       "      <th>2</th>\n",
       "      <td>1990.0</td>\n",
       "      <td>37123.0</td>\n",
       "      <td>1197.516129</td>\n",
       "      <td>0.0</td>\n",
       "      <td>72832.16</td>\n",
       "      <td>Crossfox\\n</td>\n",
       "    </tr>\n",
       "    <tr>\n",
       "      <th>3</th>\n",
       "      <td>2019.0</td>\n",
       "      <td>0.0</td>\n",
       "      <td>0.000000</td>\n",
       "      <td>1.0</td>\n",
       "      <td>124549.07</td>\n",
       "      <td>DS5\\n</td>\n",
       "    </tr>\n",
       "    <tr>\n",
       "      <th>4</th>\n",
       "      <td>2006.0</td>\n",
       "      <td>25757.0</td>\n",
       "      <td>1717.133333</td>\n",
       "      <td>0.0</td>\n",
       "      <td>92612.10</td>\n",
       "      <td>Aston Martin DB4\\n</td>\n",
       "    </tr>\n",
       "    <tr>\n",
       "      <th>...</th>\n",
       "      <td>...</td>\n",
       "      <td>...</td>\n",
       "      <td>...</td>\n",
       "      <td>...</td>\n",
       "      <td>...</td>\n",
       "      <td>...</td>\n",
       "    </tr>\n",
       "    <tr>\n",
       "      <th>253</th>\n",
       "      <td>2014.0</td>\n",
       "      <td>27505.0</td>\n",
       "      <td>3929.285714</td>\n",
       "      <td>0.0</td>\n",
       "      <td>51759.58</td>\n",
       "      <td>Phantom 2013\\n</td>\n",
       "    </tr>\n",
       "    <tr>\n",
       "      <th>254</th>\n",
       "      <td>1991.0</td>\n",
       "      <td>29981.0</td>\n",
       "      <td>999.366667</td>\n",
       "      <td>0.0</td>\n",
       "      <td>51667.06</td>\n",
       "      <td>Cadillac Ciel concept\\n</td>\n",
       "    </tr>\n",
       "    <tr>\n",
       "      <th>255</th>\n",
       "      <td>2002.0</td>\n",
       "      <td>52637.0</td>\n",
       "      <td>2770.368421</td>\n",
       "      <td>0.0</td>\n",
       "      <td>68934.03</td>\n",
       "      <td>Classe GLK\\n</td>\n",
       "    </tr>\n",
       "    <tr>\n",
       "      <th>256</th>\n",
       "      <td>1996.0</td>\n",
       "      <td>7685.0</td>\n",
       "      <td>307.400000</td>\n",
       "      <td>0.0</td>\n",
       "      <td>122110.90</td>\n",
       "      <td>Aston Martin DB5\\n</td>\n",
       "    </tr>\n",
       "    <tr>\n",
       "      <th>257</th>\n",
       "      <td>1992.0</td>\n",
       "      <td>50188.0</td>\n",
       "      <td>1730.620690</td>\n",
       "      <td>0.0</td>\n",
       "      <td>90381.47</td>\n",
       "      <td>Macan\\n</td>\n",
       "    </tr>\n",
       "  </tbody>\n",
       "</table>\n",
       "<p>258 rows × 6 columns</p>\n",
       "</div>"
      ],
      "text/plain": [
       "          0        1            2    3          4                    Nomes\n",
       "0    2003.0  44410.0  2467.222222  0.0   88078.64          Jetta Variant\\n\n",
       "1    1991.0   5712.0   190.400000  0.0  106161.94                 Passat\\n\n",
       "2    1990.0  37123.0  1197.516129  0.0   72832.16               Crossfox\\n\n",
       "3    2019.0      0.0     0.000000  1.0  124549.07                    DS5\\n\n",
       "4    2006.0  25757.0  1717.133333  0.0   92612.10       Aston Martin DB4\\n\n",
       "..      ...      ...          ...  ...        ...                      ...\n",
       "253  2014.0  27505.0  3929.285714  0.0   51759.58           Phantom 2013\\n\n",
       "254  1991.0  29981.0   999.366667  0.0   51667.06  Cadillac Ciel concept\\n\n",
       "255  2002.0  52637.0  2770.368421  0.0   68934.03             Classe GLK\\n\n",
       "256  1996.0   7685.0   307.400000  0.0  122110.90       Aston Martin DB5\\n\n",
       "257  1992.0  50188.0  1730.620690  0.0   90381.47                  Macan\\n\n",
       "\n",
       "[258 rows x 6 columns]"
      ]
     },
     "execution_count": 93,
     "metadata": {},
     "output_type": "execute_result"
    }
   ],
   "source": [
    "#Criação de uma nova coluna num Data Frame já existente\n",
    "carros_df['Nomes'] = nomes\n",
    "carros_df"
   ]
  },
  {
   "cell_type": "code",
   "execution_count": 94,
   "metadata": {},
   "outputs": [
    {
     "data": {
      "text/html": [
       "<div>\n",
       "<style scoped>\n",
       "    .dataframe tbody tr th:only-of-type {\n",
       "        vertical-align: middle;\n",
       "    }\n",
       "\n",
       "    .dataframe tbody tr th {\n",
       "        vertical-align: top;\n",
       "    }\n",
       "\n",
       "    .dataframe thead th {\n",
       "        text-align: right;\n",
       "    }\n",
       "</style>\n",
       "<table border=\"1\" class=\"dataframe\">\n",
       "  <thead>\n",
       "    <tr style=\"text-align: right;\">\n",
       "      <th></th>\n",
       "      <th>Ano</th>\n",
       "      <th>Quilometragem</th>\n",
       "      <th>Quilometragem/Ano</th>\n",
       "      <th>Novo/Usado</th>\n",
       "      <th>Valor</th>\n",
       "      <th>Nomes</th>\n",
       "    </tr>\n",
       "  </thead>\n",
       "  <tbody>\n",
       "    <tr>\n",
       "      <th>0</th>\n",
       "      <td>2003.0</td>\n",
       "      <td>44410.0</td>\n",
       "      <td>2467.222222</td>\n",
       "      <td>0.0</td>\n",
       "      <td>88078.64</td>\n",
       "      <td>Jetta Variant\\n</td>\n",
       "    </tr>\n",
       "    <tr>\n",
       "      <th>1</th>\n",
       "      <td>1991.0</td>\n",
       "      <td>5712.0</td>\n",
       "      <td>190.400000</td>\n",
       "      <td>0.0</td>\n",
       "      <td>106161.94</td>\n",
       "      <td>Passat\\n</td>\n",
       "    </tr>\n",
       "    <tr>\n",
       "      <th>2</th>\n",
       "      <td>1990.0</td>\n",
       "      <td>37123.0</td>\n",
       "      <td>1197.516129</td>\n",
       "      <td>0.0</td>\n",
       "      <td>72832.16</td>\n",
       "      <td>Crossfox\\n</td>\n",
       "    </tr>\n",
       "    <tr>\n",
       "      <th>3</th>\n",
       "      <td>2019.0</td>\n",
       "      <td>0.0</td>\n",
       "      <td>0.000000</td>\n",
       "      <td>1.0</td>\n",
       "      <td>124549.07</td>\n",
       "      <td>DS5\\n</td>\n",
       "    </tr>\n",
       "    <tr>\n",
       "      <th>4</th>\n",
       "      <td>2006.0</td>\n",
       "      <td>25757.0</td>\n",
       "      <td>1717.133333</td>\n",
       "      <td>0.0</td>\n",
       "      <td>92612.10</td>\n",
       "      <td>Aston Martin DB4\\n</td>\n",
       "    </tr>\n",
       "    <tr>\n",
       "      <th>...</th>\n",
       "      <td>...</td>\n",
       "      <td>...</td>\n",
       "      <td>...</td>\n",
       "      <td>...</td>\n",
       "      <td>...</td>\n",
       "      <td>...</td>\n",
       "    </tr>\n",
       "    <tr>\n",
       "      <th>253</th>\n",
       "      <td>2014.0</td>\n",
       "      <td>27505.0</td>\n",
       "      <td>3929.285714</td>\n",
       "      <td>0.0</td>\n",
       "      <td>51759.58</td>\n",
       "      <td>Phantom 2013\\n</td>\n",
       "    </tr>\n",
       "    <tr>\n",
       "      <th>254</th>\n",
       "      <td>1991.0</td>\n",
       "      <td>29981.0</td>\n",
       "      <td>999.366667</td>\n",
       "      <td>0.0</td>\n",
       "      <td>51667.06</td>\n",
       "      <td>Cadillac Ciel concept\\n</td>\n",
       "    </tr>\n",
       "    <tr>\n",
       "      <th>255</th>\n",
       "      <td>2002.0</td>\n",
       "      <td>52637.0</td>\n",
       "      <td>2770.368421</td>\n",
       "      <td>0.0</td>\n",
       "      <td>68934.03</td>\n",
       "      <td>Classe GLK\\n</td>\n",
       "    </tr>\n",
       "    <tr>\n",
       "      <th>256</th>\n",
       "      <td>1996.0</td>\n",
       "      <td>7685.0</td>\n",
       "      <td>307.400000</td>\n",
       "      <td>0.0</td>\n",
       "      <td>122110.90</td>\n",
       "      <td>Aston Martin DB5\\n</td>\n",
       "    </tr>\n",
       "    <tr>\n",
       "      <th>257</th>\n",
       "      <td>1992.0</td>\n",
       "      <td>50188.0</td>\n",
       "      <td>1730.620690</td>\n",
       "      <td>0.0</td>\n",
       "      <td>90381.47</td>\n",
       "      <td>Macan\\n</td>\n",
       "    </tr>\n",
       "  </tbody>\n",
       "</table>\n",
       "<p>258 rows × 6 columns</p>\n",
       "</div>"
      ],
      "text/plain": [
       "        Ano  Quilometragem  Quilometragem/Ano  Novo/Usado      Valor  \\\n",
       "0    2003.0        44410.0        2467.222222         0.0   88078.64   \n",
       "1    1991.0         5712.0         190.400000         0.0  106161.94   \n",
       "2    1990.0        37123.0        1197.516129         0.0   72832.16   \n",
       "3    2019.0            0.0           0.000000         1.0  124549.07   \n",
       "4    2006.0        25757.0        1717.133333         0.0   92612.10   \n",
       "..      ...            ...                ...         ...        ...   \n",
       "253  2014.0        27505.0        3929.285714         0.0   51759.58   \n",
       "254  1991.0        29981.0         999.366667         0.0   51667.06   \n",
       "255  2002.0        52637.0        2770.368421         0.0   68934.03   \n",
       "256  1996.0         7685.0         307.400000         0.0  122110.90   \n",
       "257  1992.0        50188.0        1730.620690         0.0   90381.47   \n",
       "\n",
       "                       Nomes  \n",
       "0            Jetta Variant\\n  \n",
       "1                   Passat\\n  \n",
       "2                 Crossfox\\n  \n",
       "3                      DS5\\n  \n",
       "4         Aston Martin DB4\\n  \n",
       "..                       ...  \n",
       "253           Phantom 2013\\n  \n",
       "254  Cadillac Ciel concept\\n  \n",
       "255             Classe GLK\\n  \n",
       "256       Aston Martin DB5\\n  \n",
       "257                  Macan\\n  \n",
       "\n",
       "[258 rows x 6 columns]"
      ]
     },
     "execution_count": 94,
     "metadata": {},
     "output_type": "execute_result"
    }
   ],
   "source": [
    "#Renomeando colunas de um Data Frame já existente\n",
    "carros_df = carros_df.rename(columns={0:'Ano',1:'Quilometragem',2:'Quilometragem/Ano',3:'Novo/Usado',4:'Valor'})\n",
    "carros_df"
   ]
  },
  {
   "cell_type": "code",
   "execution_count": 95,
   "metadata": {},
   "outputs": [
    {
     "data": {
      "text/html": [
       "<div>\n",
       "<style scoped>\n",
       "    .dataframe tbody tr th:only-of-type {\n",
       "        vertical-align: middle;\n",
       "    }\n",
       "\n",
       "    .dataframe tbody tr th {\n",
       "        vertical-align: top;\n",
       "    }\n",
       "\n",
       "    .dataframe thead th {\n",
       "        text-align: right;\n",
       "    }\n",
       "</style>\n",
       "<table border=\"1\" class=\"dataframe\">\n",
       "  <thead>\n",
       "    <tr style=\"text-align: right;\">\n",
       "      <th></th>\n",
       "      <th>Nomes</th>\n",
       "      <th>Ano</th>\n",
       "      <th>Quilometragem</th>\n",
       "      <th>Quilometragem/Ano</th>\n",
       "      <th>Novo/Usado</th>\n",
       "      <th>Valor</th>\n",
       "    </tr>\n",
       "  </thead>\n",
       "  <tbody>\n",
       "    <tr>\n",
       "      <th>0</th>\n",
       "      <td>Jetta Variant\\n</td>\n",
       "      <td>2003.0</td>\n",
       "      <td>44410.0</td>\n",
       "      <td>2467.222222</td>\n",
       "      <td>0.0</td>\n",
       "      <td>88078.64</td>\n",
       "    </tr>\n",
       "    <tr>\n",
       "      <th>1</th>\n",
       "      <td>Passat\\n</td>\n",
       "      <td>1991.0</td>\n",
       "      <td>5712.0</td>\n",
       "      <td>190.400000</td>\n",
       "      <td>0.0</td>\n",
       "      <td>106161.94</td>\n",
       "    </tr>\n",
       "    <tr>\n",
       "      <th>2</th>\n",
       "      <td>Crossfox\\n</td>\n",
       "      <td>1990.0</td>\n",
       "      <td>37123.0</td>\n",
       "      <td>1197.516129</td>\n",
       "      <td>0.0</td>\n",
       "      <td>72832.16</td>\n",
       "    </tr>\n",
       "    <tr>\n",
       "      <th>3</th>\n",
       "      <td>DS5\\n</td>\n",
       "      <td>2019.0</td>\n",
       "      <td>0.0</td>\n",
       "      <td>0.000000</td>\n",
       "      <td>1.0</td>\n",
       "      <td>124549.07</td>\n",
       "    </tr>\n",
       "    <tr>\n",
       "      <th>4</th>\n",
       "      <td>Aston Martin DB4\\n</td>\n",
       "      <td>2006.0</td>\n",
       "      <td>25757.0</td>\n",
       "      <td>1717.133333</td>\n",
       "      <td>0.0</td>\n",
       "      <td>92612.10</td>\n",
       "    </tr>\n",
       "  </tbody>\n",
       "</table>\n",
       "</div>"
      ],
      "text/plain": [
       "                Nomes     Ano  Quilometragem  Quilometragem/Ano  Novo/Usado  \\\n",
       "0     Jetta Variant\\n  2003.0        44410.0        2467.222222         0.0   \n",
       "1            Passat\\n  1991.0         5712.0         190.400000         0.0   \n",
       "2          Crossfox\\n  1990.0        37123.0        1197.516129         0.0   \n",
       "3               DS5\\n  2019.0            0.0           0.000000         1.0   \n",
       "4  Aston Martin DB4\\n  2006.0        25757.0        1717.133333         0.0   \n",
       "\n",
       "       Valor  \n",
       "0   88078.64  \n",
       "1  106161.94  \n",
       "2   72832.16  \n",
       "3  124549.07  \n",
       "4   92612.10  "
      ]
     },
     "execution_count": 95,
     "metadata": {},
     "output_type": "execute_result"
    }
   ],
   "source": [
    "#Rearrajando as colunas por coveniência. Vale salientar que aqui é você quem escolhe a ordem das colunas como você julgar ficar mais organizado\n",
    "carros_df = carros_df[['Nomes','Ano','Quilometragem','Quilometragem/Ano','Novo/Usado','Valor']]\n",
    "carros_df.head(5)"
   ]
  },
  {
   "cell_type": "code",
   "execution_count": 96,
   "metadata": {},
   "outputs": [
    {
     "data": {
      "text/html": [
       "<div>\n",
       "<style scoped>\n",
       "    .dataframe tbody tr th:only-of-type {\n",
       "        vertical-align: middle;\n",
       "    }\n",
       "\n",
       "    .dataframe tbody tr th {\n",
       "        vertical-align: top;\n",
       "    }\n",
       "\n",
       "    .dataframe thead th {\n",
       "        text-align: right;\n",
       "    }\n",
       "</style>\n",
       "<table border=\"1\" class=\"dataframe\">\n",
       "  <thead>\n",
       "    <tr style=\"text-align: right;\">\n",
       "      <th></th>\n",
       "      <th>Nomes</th>\n",
       "      <th>Ano</th>\n",
       "      <th>Quilometragem</th>\n",
       "      <th>Quilometragem/Ano</th>\n",
       "      <th>Novo/Usado</th>\n",
       "      <th>Valor</th>\n",
       "    </tr>\n",
       "  </thead>\n",
       "  <tbody>\n",
       "    <tr>\n",
       "      <th>3</th>\n",
       "      <td>DS5\\n</td>\n",
       "      <td>2019.0</td>\n",
       "      <td>0.0</td>\n",
       "      <td>0.0</td>\n",
       "      <td>1.0</td>\n",
       "      <td>124549.07</td>\n",
       "    </tr>\n",
       "    <tr>\n",
       "      <th>6</th>\n",
       "      <td>A5\\n</td>\n",
       "      <td>2019.0</td>\n",
       "      <td>0.0</td>\n",
       "      <td>0.0</td>\n",
       "      <td>1.0</td>\n",
       "      <td>56445.20</td>\n",
       "    </tr>\n",
       "    <tr>\n",
       "      <th>13</th>\n",
       "      <td>J5\\n</td>\n",
       "      <td>2019.0</td>\n",
       "      <td>0.0</td>\n",
       "      <td>0.0</td>\n",
       "      <td>1.0</td>\n",
       "      <td>53183.38</td>\n",
       "    </tr>\n",
       "    <tr>\n",
       "      <th>17</th>\n",
       "      <td>A3\\n</td>\n",
       "      <td>2019.0</td>\n",
       "      <td>0.0</td>\n",
       "      <td>0.0</td>\n",
       "      <td>1.0</td>\n",
       "      <td>88552.39</td>\n",
       "    </tr>\n",
       "    <tr>\n",
       "      <th>21</th>\n",
       "      <td>Serie 1 M\\n</td>\n",
       "      <td>2019.0</td>\n",
       "      <td>0.0</td>\n",
       "      <td>0.0</td>\n",
       "      <td>1.0</td>\n",
       "      <td>94564.40</td>\n",
       "    </tr>\n",
       "  </tbody>\n",
       "</table>\n",
       "</div>"
      ],
      "text/plain": [
       "          Nomes     Ano  Quilometragem  Quilometragem/Ano  Novo/Usado  \\\n",
       "3         DS5\\n  2019.0            0.0                0.0         1.0   \n",
       "6          A5\\n  2019.0            0.0                0.0         1.0   \n",
       "13         J5\\n  2019.0            0.0                0.0         1.0   \n",
       "17         A3\\n  2019.0            0.0                0.0         1.0   \n",
       "21  Serie 1 M\\n  2019.0            0.0                0.0         1.0   \n",
       "\n",
       "        Valor  \n",
       "3   124549.07  \n",
       "6    56445.20  \n",
       "13   53183.38  \n",
       "17   88552.39  \n",
       "21   94564.40  "
      ]
     },
     "execution_count": 96,
     "metadata": {},
     "output_type": "execute_result"
    }
   ],
   "source": [
    "#Seleção apenas dos carros novos, ou seja, que ainda não rodaram\n",
    "carros_novos = carros_df[carros_df['Novo/Usado']==1]\n",
    "carros_novos.head(5)"
   ]
  },
  {
   "cell_type": "code",
   "execution_count": 97,
   "metadata": {},
   "outputs": [
    {
     "name": "stdout",
     "output_type": "stream",
     "text": [
      "<class 'pandas.core.frame.DataFrame'>\n",
      "Int64Index: 61 entries, 3 to 248\n",
      "Data columns (total 6 columns):\n",
      " #   Column             Non-Null Count  Dtype  \n",
      "---  ------             --------------  -----  \n",
      " 0   Nomes              61 non-null     object \n",
      " 1   Ano                61 non-null     float64\n",
      " 2   Quilometragem      61 non-null     float64\n",
      " 3   Quilometragem/Ano  61 non-null     float64\n",
      " 4   Novo/Usado         61 non-null     float64\n",
      " 5   Valor              61 non-null     float64\n",
      "dtypes: float64(5), object(1)\n",
      "memory usage: 3.3+ KB\n"
     ]
    }
   ],
   "source": [
    "carros_novos.info()"
   ]
  },
  {
   "cell_type": "markdown",
   "metadata": {},
   "source": [
    "A função info() traz algumas informações básicas sobre o nosso DataFrame. Podemos ver que temos 61 carros novos. E também é possível ver o tipo de variável que cada coluna tem, nesse caso temos variáveis do tipo object e float64."
   ]
  },
  {
   "cell_type": "code",
   "execution_count": 98,
   "metadata": {},
   "outputs": [
    {
     "data": {
      "text/html": [
       "<div>\n",
       "<style scoped>\n",
       "    .dataframe tbody tr th:only-of-type {\n",
       "        vertical-align: middle;\n",
       "    }\n",
       "\n",
       "    .dataframe tbody tr th {\n",
       "        vertical-align: top;\n",
       "    }\n",
       "\n",
       "    .dataframe thead th {\n",
       "        text-align: right;\n",
       "    }\n",
       "</style>\n",
       "<table border=\"1\" class=\"dataframe\">\n",
       "  <thead>\n",
       "    <tr style=\"text-align: right;\">\n",
       "      <th></th>\n",
       "      <th>Ano</th>\n",
       "      <th>Quilometragem</th>\n",
       "      <th>Quilometragem/Ano</th>\n",
       "      <th>Novo/Usado</th>\n",
       "      <th>Valor</th>\n",
       "    </tr>\n",
       "  </thead>\n",
       "  <tbody>\n",
       "    <tr>\n",
       "      <th>count</th>\n",
       "      <td>61.0</td>\n",
       "      <td>61.0</td>\n",
       "      <td>61.0</td>\n",
       "      <td>61.0</td>\n",
       "      <td>61.000000</td>\n",
       "    </tr>\n",
       "    <tr>\n",
       "      <th>mean</th>\n",
       "      <td>2019.0</td>\n",
       "      <td>0.0</td>\n",
       "      <td>0.0</td>\n",
       "      <td>1.0</td>\n",
       "      <td>100423.811803</td>\n",
       "    </tr>\n",
       "    <tr>\n",
       "      <th>std</th>\n",
       "      <td>0.0</td>\n",
       "      <td>0.0</td>\n",
       "      <td>0.0</td>\n",
       "      <td>0.0</td>\n",
       "      <td>30156.009638</td>\n",
       "    </tr>\n",
       "    <tr>\n",
       "      <th>min</th>\n",
       "      <td>2019.0</td>\n",
       "      <td>0.0</td>\n",
       "      <td>0.0</td>\n",
       "      <td>1.0</td>\n",
       "      <td>50742.100000</td>\n",
       "    </tr>\n",
       "    <tr>\n",
       "      <th>25%</th>\n",
       "      <td>2019.0</td>\n",
       "      <td>0.0</td>\n",
       "      <td>0.0</td>\n",
       "      <td>1.0</td>\n",
       "      <td>71367.100000</td>\n",
       "    </tr>\n",
       "    <tr>\n",
       "      <th>50%</th>\n",
       "      <td>2019.0</td>\n",
       "      <td>0.0</td>\n",
       "      <td>0.0</td>\n",
       "      <td>1.0</td>\n",
       "      <td>102609.540000</td>\n",
       "    </tr>\n",
       "    <tr>\n",
       "      <th>75%</th>\n",
       "      <td>2019.0</td>\n",
       "      <td>0.0</td>\n",
       "      <td>0.0</td>\n",
       "      <td>1.0</td>\n",
       "      <td>124549.070000</td>\n",
       "    </tr>\n",
       "    <tr>\n",
       "      <th>max</th>\n",
       "      <td>2019.0</td>\n",
       "      <td>0.0</td>\n",
       "      <td>0.0</td>\n",
       "      <td>1.0</td>\n",
       "      <td>149157.170000</td>\n",
       "    </tr>\n",
       "  </tbody>\n",
       "</table>\n",
       "</div>"
      ],
      "text/plain": [
       "          Ano  Quilometragem  Quilometragem/Ano  Novo/Usado          Valor\n",
       "count    61.0           61.0               61.0        61.0      61.000000\n",
       "mean   2019.0            0.0                0.0         1.0  100423.811803\n",
       "std       0.0            0.0                0.0         0.0   30156.009638\n",
       "min    2019.0            0.0                0.0         1.0   50742.100000\n",
       "25%    2019.0            0.0                0.0         1.0   71367.100000\n",
       "50%    2019.0            0.0                0.0         1.0  102609.540000\n",
       "75%    2019.0            0.0                0.0         1.0  124549.070000\n",
       "max    2019.0            0.0                0.0         1.0  149157.170000"
      ]
     },
     "execution_count": 98,
     "metadata": {},
     "output_type": "execute_result"
    }
   ],
   "source": [
    "carros_novos.describe()"
   ]
  },
  {
   "cell_type": "markdown",
   "metadata": {},
   "source": [
    "A função describe() traz informações estatísticas iniciais. Por exemplo, podemos ver que a primeira linha apresentada (count) é a contagem de elementos que tem em cada coluna. A linha das médias (mean) mostra a média dos valores de cada coluna. A linha std moostra o desvio padrão dos valores contidos na coluna. As funções min e max retornam os valos mínimo e máximo, respectivamente, de cada coluna. As colunas 25%, 50% e 75% mostram os quartis da distribuição de valores de cada coluna. Repare que foram usadas somente as colunas que tem valores numéricos, as colunas com tipos object não são usadas na função describe().\n",
    "Então podemos confirmar que temos 61 carros e que de fato eles são novos, pois as colunas Quilometragem e Quuilometragem/Ano estão com valores 0. Ainda podemos ver que todos os carros datam do ano de 2019 e que o carro novo mais caro custa R$ 149157,17 enquanto que o carro novo mais barato custa R$ 50742,10."
   ]
  },
  {
   "cell_type": "code",
   "execution_count": 99,
   "metadata": {},
   "outputs": [
    {
     "data": {
      "text/html": [
       "<div>\n",
       "<style scoped>\n",
       "    .dataframe tbody tr th:only-of-type {\n",
       "        vertical-align: middle;\n",
       "    }\n",
       "\n",
       "    .dataframe tbody tr th {\n",
       "        vertical-align: top;\n",
       "    }\n",
       "\n",
       "    .dataframe thead th {\n",
       "        text-align: right;\n",
       "    }\n",
       "</style>\n",
       "<table border=\"1\" class=\"dataframe\">\n",
       "  <thead>\n",
       "    <tr style=\"text-align: right;\">\n",
       "      <th></th>\n",
       "      <th>Nomes</th>\n",
       "      <th>Ano</th>\n",
       "      <th>Valor</th>\n",
       "    </tr>\n",
       "  </thead>\n",
       "  <tbody>\n",
       "    <tr>\n",
       "      <th>117</th>\n",
       "      <td>Lamborghini Ferruccio\\n</td>\n",
       "      <td>2019.0</td>\n",
       "      <td>149157.17</td>\n",
       "    </tr>\n",
       "  </tbody>\n",
       "</table>\n",
       "</div>"
      ],
      "text/plain": [
       "                       Nomes     Ano      Valor\n",
       "117  Lamborghini Ferruccio\\n  2019.0  149157.17"
      ]
     },
     "execution_count": 99,
     "metadata": {},
     "output_type": "execute_result"
    }
   ],
   "source": [
    "#Informações sobre o carro novo mais caro\n",
    "carros_novos[carros_novos['Valor']==max(carros_novos['Valor'])][['Nomes','Ano','Valor']]"
   ]
  },
  {
   "cell_type": "code",
   "execution_count": 100,
   "metadata": {},
   "outputs": [
    {
     "data": {
      "text/html": [
       "<div>\n",
       "<style scoped>\n",
       "    .dataframe tbody tr th:only-of-type {\n",
       "        vertical-align: middle;\n",
       "    }\n",
       "\n",
       "    .dataframe tbody tr th {\n",
       "        vertical-align: top;\n",
       "    }\n",
       "\n",
       "    .dataframe thead th {\n",
       "        text-align: right;\n",
       "    }\n",
       "</style>\n",
       "<table border=\"1\" class=\"dataframe\">\n",
       "  <thead>\n",
       "    <tr style=\"text-align: right;\">\n",
       "      <th></th>\n",
       "      <th>Nomes</th>\n",
       "      <th>Ano</th>\n",
       "      <th>Valor</th>\n",
       "    </tr>\n",
       "  </thead>\n",
       "  <tbody>\n",
       "    <tr>\n",
       "      <th>79</th>\n",
       "      <td>Livina\\n</td>\n",
       "      <td>2019.0</td>\n",
       "      <td>50742.1</td>\n",
       "    </tr>\n",
       "  </tbody>\n",
       "</table>\n",
       "</div>"
      ],
      "text/plain": [
       "       Nomes     Ano    Valor\n",
       "79  Livina\\n  2019.0  50742.1"
      ]
     },
     "execution_count": 100,
     "metadata": {},
     "output_type": "execute_result"
    }
   ],
   "source": [
    "#Informações sobre o carro novo mais barato\n",
    "carros_novos[carros_novos['Valor']==min(carros_novos['Valor'])][['Nomes','Ano','Valor']]"
   ]
  },
  {
   "cell_type": "code",
   "execution_count": 101,
   "metadata": {},
   "outputs": [
    {
     "data": {
      "text/html": [
       "<div>\n",
       "<style scoped>\n",
       "    .dataframe tbody tr th:only-of-type {\n",
       "        vertical-align: middle;\n",
       "    }\n",
       "\n",
       "    .dataframe tbody tr th {\n",
       "        vertical-align: top;\n",
       "    }\n",
       "\n",
       "    .dataframe thead th {\n",
       "        text-align: right;\n",
       "    }\n",
       "</style>\n",
       "<table border=\"1\" class=\"dataframe\">\n",
       "  <thead>\n",
       "    <tr style=\"text-align: right;\">\n",
       "      <th></th>\n",
       "      <th>Nomes</th>\n",
       "      <th>Ano</th>\n",
       "      <th>Quilometragem</th>\n",
       "      <th>Quilometragem/Ano</th>\n",
       "      <th>Novo/Usado</th>\n",
       "      <th>Valor</th>\n",
       "    </tr>\n",
       "  </thead>\n",
       "  <tbody>\n",
       "    <tr>\n",
       "      <th>0</th>\n",
       "      <td>Jetta Variant\\n</td>\n",
       "      <td>2003.0</td>\n",
       "      <td>44410.0</td>\n",
       "      <td>2467.222222</td>\n",
       "      <td>0.0</td>\n",
       "      <td>88078.64</td>\n",
       "    </tr>\n",
       "    <tr>\n",
       "      <th>1</th>\n",
       "      <td>Passat\\n</td>\n",
       "      <td>1991.0</td>\n",
       "      <td>5712.0</td>\n",
       "      <td>190.400000</td>\n",
       "      <td>0.0</td>\n",
       "      <td>106161.94</td>\n",
       "    </tr>\n",
       "    <tr>\n",
       "      <th>2</th>\n",
       "      <td>Crossfox\\n</td>\n",
       "      <td>1990.0</td>\n",
       "      <td>37123.0</td>\n",
       "      <td>1197.516129</td>\n",
       "      <td>0.0</td>\n",
       "      <td>72832.16</td>\n",
       "    </tr>\n",
       "    <tr>\n",
       "      <th>4</th>\n",
       "      <td>Aston Martin DB4\\n</td>\n",
       "      <td>2006.0</td>\n",
       "      <td>25757.0</td>\n",
       "      <td>1717.133333</td>\n",
       "      <td>0.0</td>\n",
       "      <td>92612.10</td>\n",
       "    </tr>\n",
       "    <tr>\n",
       "      <th>5</th>\n",
       "      <td>Palio Weekend\\n</td>\n",
       "      <td>2012.0</td>\n",
       "      <td>10728.0</td>\n",
       "      <td>1192.000000</td>\n",
       "      <td>0.0</td>\n",
       "      <td>97497.73</td>\n",
       "    </tr>\n",
       "  </tbody>\n",
       "</table>\n",
       "</div>"
      ],
      "text/plain": [
       "                Nomes     Ano  Quilometragem  Quilometragem/Ano  Novo/Usado  \\\n",
       "0     Jetta Variant\\n  2003.0        44410.0        2467.222222         0.0   \n",
       "1            Passat\\n  1991.0         5712.0         190.400000         0.0   \n",
       "2          Crossfox\\n  1990.0        37123.0        1197.516129         0.0   \n",
       "4  Aston Martin DB4\\n  2006.0        25757.0        1717.133333         0.0   \n",
       "5     Palio Weekend\\n  2012.0        10728.0        1192.000000         0.0   \n",
       "\n",
       "       Valor  \n",
       "0   88078.64  \n",
       "1  106161.94  \n",
       "2   72832.16  \n",
       "4   92612.10  \n",
       "5   97497.73  "
      ]
     },
     "execution_count": 101,
     "metadata": {},
     "output_type": "execute_result"
    }
   ],
   "source": [
    "carros_usados = carros_df[carros_df['Novo/Usado']==0]\n",
    "carros_usados.head(5)"
   ]
  },
  {
   "cell_type": "code",
   "execution_count": 102,
   "metadata": {},
   "outputs": [
    {
     "data": {
      "text/html": [
       "<div>\n",
       "<style scoped>\n",
       "    .dataframe tbody tr th:only-of-type {\n",
       "        vertical-align: middle;\n",
       "    }\n",
       "\n",
       "    .dataframe tbody tr th {\n",
       "        vertical-align: top;\n",
       "    }\n",
       "\n",
       "    .dataframe thead th {\n",
       "        text-align: right;\n",
       "    }\n",
       "</style>\n",
       "<table border=\"1\" class=\"dataframe\">\n",
       "  <thead>\n",
       "    <tr style=\"text-align: right;\">\n",
       "      <th></th>\n",
       "      <th>Ano</th>\n",
       "      <th>Quilometragem</th>\n",
       "      <th>Quilometragem/Ano</th>\n",
       "      <th>Novo/Usado</th>\n",
       "      <th>Valor</th>\n",
       "    </tr>\n",
       "  </thead>\n",
       "  <tbody>\n",
       "    <tr>\n",
       "      <th>count</th>\n",
       "      <td>197.000000</td>\n",
       "      <td>197.000000</td>\n",
       "      <td>197.000000</td>\n",
       "      <td>197.0</td>\n",
       "      <td>197.000000</td>\n",
       "    </tr>\n",
       "    <tr>\n",
       "      <th>mean</th>\n",
       "      <td>2003.954315</td>\n",
       "      <td>58278.421320</td>\n",
       "      <td>4803.804629</td>\n",
       "      <td>0.0</td>\n",
       "      <td>98507.410457</td>\n",
       "    </tr>\n",
       "    <tr>\n",
       "      <th>std</th>\n",
       "      <td>8.380793</td>\n",
       "      <td>35836.733259</td>\n",
       "      <td>5401.530370</td>\n",
       "      <td>0.0</td>\n",
       "      <td>29767.374513</td>\n",
       "    </tr>\n",
       "    <tr>\n",
       "      <th>min</th>\n",
       "      <td>1990.000000</td>\n",
       "      <td>107.000000</td>\n",
       "      <td>3.566667</td>\n",
       "      <td>0.0</td>\n",
       "      <td>51667.060000</td>\n",
       "    </tr>\n",
       "    <tr>\n",
       "      <th>25%</th>\n",
       "      <td>1996.000000</td>\n",
       "      <td>27505.000000</td>\n",
       "      <td>1706.333333</td>\n",
       "      <td>0.0</td>\n",
       "      <td>70709.340000</td>\n",
       "    </tr>\n",
       "    <tr>\n",
       "      <th>50%</th>\n",
       "      <td>2004.000000</td>\n",
       "      <td>55083.000000</td>\n",
       "      <td>3405.080000</td>\n",
       "      <td>0.0</td>\n",
       "      <td>96369.040000</td>\n",
       "    </tr>\n",
       "    <tr>\n",
       "      <th>75%</th>\n",
       "      <td>2011.000000</td>\n",
       "      <td>90495.000000</td>\n",
       "      <td>5402.352941</td>\n",
       "      <td>0.0</td>\n",
       "      <td>124661.380000</td>\n",
       "    </tr>\n",
       "    <tr>\n",
       "      <th>max</th>\n",
       "      <td>2018.000000</td>\n",
       "      <td>119945.000000</td>\n",
       "      <td>29940.000000</td>\n",
       "      <td>0.0</td>\n",
       "      <td>149489.920000</td>\n",
       "    </tr>\n",
       "  </tbody>\n",
       "</table>\n",
       "</div>"
      ],
      "text/plain": [
       "               Ano  Quilometragem  Quilometragem/Ano  Novo/Usado  \\\n",
       "count   197.000000     197.000000         197.000000       197.0   \n",
       "mean   2003.954315   58278.421320        4803.804629         0.0   \n",
       "std       8.380793   35836.733259        5401.530370         0.0   \n",
       "min    1990.000000     107.000000           3.566667         0.0   \n",
       "25%    1996.000000   27505.000000        1706.333333         0.0   \n",
       "50%    2004.000000   55083.000000        3405.080000         0.0   \n",
       "75%    2011.000000   90495.000000        5402.352941         0.0   \n",
       "max    2018.000000  119945.000000       29940.000000         0.0   \n",
       "\n",
       "               Valor  \n",
       "count     197.000000  \n",
       "mean    98507.410457  \n",
       "std     29767.374513  \n",
       "min     51667.060000  \n",
       "25%     70709.340000  \n",
       "50%     96369.040000  \n",
       "75%    124661.380000  \n",
       "max    149489.920000  "
      ]
     },
     "execution_count": 102,
     "metadata": {},
     "output_type": "execute_result"
    }
   ],
   "source": [
    "carros_usados.describe()"
   ]
  },
  {
   "cell_type": "markdown",
   "metadata": {},
   "source": [
    "Podemos ver que temos um total de 197 carros na agência. O carro mais antigo data de 1990 e o mais recente de 2018. Em média os carros usados rodam 4803,8 km/ano e tem um valor médio de R$ 98507,41. Sendo o carro usado mais caro num valor de R$ 149489,92 e o mais barato num valor de R$ 51667,06."
   ]
  },
  {
   "cell_type": "code",
   "execution_count": 103,
   "metadata": {},
   "outputs": [
    {
     "data": {
      "text/html": [
       "<div>\n",
       "<style scoped>\n",
       "    .dataframe tbody tr th:only-of-type {\n",
       "        vertical-align: middle;\n",
       "    }\n",
       "\n",
       "    .dataframe tbody tr th {\n",
       "        vertical-align: top;\n",
       "    }\n",
       "\n",
       "    .dataframe thead th {\n",
       "        text-align: right;\n",
       "    }\n",
       "</style>\n",
       "<table border=\"1\" class=\"dataframe\">\n",
       "  <thead>\n",
       "    <tr style=\"text-align: right;\">\n",
       "      <th></th>\n",
       "      <th>Nomes</th>\n",
       "      <th>Ano</th>\n",
       "      <th>Quilometragem</th>\n",
       "      <th>Quilometragem/Ano</th>\n",
       "      <th>Valor</th>\n",
       "    </tr>\n",
       "  </thead>\n",
       "  <tbody>\n",
       "    <tr>\n",
       "      <th>128</th>\n",
       "      <td>ASX\\n</td>\n",
       "      <td>2003.0</td>\n",
       "      <td>61672.0</td>\n",
       "      <td>3426.222222</td>\n",
       "      <td>149489.92</td>\n",
       "    </tr>\n",
       "  </tbody>\n",
       "</table>\n",
       "</div>"
      ],
      "text/plain": [
       "     Nomes     Ano  Quilometragem  Quilometragem/Ano      Valor\n",
       "128  ASX\\n  2003.0        61672.0        3426.222222  149489.92"
      ]
     },
     "execution_count": 103,
     "metadata": {},
     "output_type": "execute_result"
    }
   ],
   "source": [
    "#Informações sobre o carro usado mais caro\n",
    "carros_usados[carros_usados['Valor']==max(carros_usados['Valor'])][['Nomes','Ano','Quilometragem','Quilometragem/Ano','Valor']]"
   ]
  },
  {
   "cell_type": "code",
   "execution_count": 104,
   "metadata": {},
   "outputs": [
    {
     "data": {
      "text/html": [
       "<div>\n",
       "<style scoped>\n",
       "    .dataframe tbody tr th:only-of-type {\n",
       "        vertical-align: middle;\n",
       "    }\n",
       "\n",
       "    .dataframe tbody tr th {\n",
       "        vertical-align: top;\n",
       "    }\n",
       "\n",
       "    .dataframe thead th {\n",
       "        text-align: right;\n",
       "    }\n",
       "</style>\n",
       "<table border=\"1\" class=\"dataframe\">\n",
       "  <thead>\n",
       "    <tr style=\"text-align: right;\">\n",
       "      <th></th>\n",
       "      <th>Nomes</th>\n",
       "      <th>Ano</th>\n",
       "      <th>Quilometragem</th>\n",
       "      <th>Quilometragem/Ano</th>\n",
       "      <th>Valor</th>\n",
       "    </tr>\n",
       "  </thead>\n",
       "  <tbody>\n",
       "    <tr>\n",
       "      <th>254</th>\n",
       "      <td>Cadillac Ciel concept\\n</td>\n",
       "      <td>1991.0</td>\n",
       "      <td>29981.0</td>\n",
       "      <td>999.366667</td>\n",
       "      <td>51667.06</td>\n",
       "    </tr>\n",
       "  </tbody>\n",
       "</table>\n",
       "</div>"
      ],
      "text/plain": [
       "                       Nomes     Ano  Quilometragem  Quilometragem/Ano  \\\n",
       "254  Cadillac Ciel concept\\n  1991.0        29981.0         999.366667   \n",
       "\n",
       "        Valor  \n",
       "254  51667.06  "
      ]
     },
     "execution_count": 104,
     "metadata": {},
     "output_type": "execute_result"
    }
   ],
   "source": [
    "#Informações sobre o carro usado mais barato\n",
    "carros_usados[carros_usados['Valor']==min(carros_usados['Valor'])][['Nomes','Ano','Quilometragem','Quilometragem/Ano','Valor']]"
   ]
  },
  {
   "cell_type": "code",
   "execution_count": 105,
   "metadata": {},
   "outputs": [
    {
     "data": {
      "text/html": [
       "<div>\n",
       "<style scoped>\n",
       "    .dataframe tbody tr th:only-of-type {\n",
       "        vertical-align: middle;\n",
       "    }\n",
       "\n",
       "    .dataframe tbody tr th {\n",
       "        vertical-align: top;\n",
       "    }\n",
       "\n",
       "    .dataframe thead th {\n",
       "        text-align: right;\n",
       "    }\n",
       "</style>\n",
       "<table border=\"1\" class=\"dataframe\">\n",
       "  <thead>\n",
       "    <tr style=\"text-align: right;\">\n",
       "      <th></th>\n",
       "      <th>Nomes</th>\n",
       "      <th>Ano</th>\n",
       "      <th>Quilometragem</th>\n",
       "      <th>Quilometragem/Ano</th>\n",
       "      <th>Novo/Usado</th>\n",
       "      <th>Valor</th>\n",
       "    </tr>\n",
       "  </thead>\n",
       "  <tbody>\n",
       "    <tr>\n",
       "      <th>128</th>\n",
       "      <td>ASX\\n</td>\n",
       "      <td>2003.0</td>\n",
       "      <td>61672.0</td>\n",
       "      <td>3426.222222</td>\n",
       "      <td>0.0</td>\n",
       "      <td>149489.92</td>\n",
       "    </tr>\n",
       "  </tbody>\n",
       "</table>\n",
       "</div>"
      ],
      "text/plain": [
       "     Nomes     Ano  Quilometragem  Quilometragem/Ano  Novo/Usado      Valor\n",
       "128  ASX\\n  2003.0        61672.0        3426.222222         0.0  149489.92"
      ]
     },
     "execution_count": 105,
     "metadata": {},
     "output_type": "execute_result"
    }
   ],
   "source": [
    "#Informação do carro mais caro da agência\n",
    "carros_df[carros_df['Valor']==max([max(carros_usados['Valor']),max(carros_novos['Valor'])])]"
   ]
  },
  {
   "cell_type": "code",
   "execution_count": 106,
   "metadata": {},
   "outputs": [
    {
     "data": {
      "text/html": [
       "<div>\n",
       "<style scoped>\n",
       "    .dataframe tbody tr th:only-of-type {\n",
       "        vertical-align: middle;\n",
       "    }\n",
       "\n",
       "    .dataframe tbody tr th {\n",
       "        vertical-align: top;\n",
       "    }\n",
       "\n",
       "    .dataframe thead th {\n",
       "        text-align: right;\n",
       "    }\n",
       "</style>\n",
       "<table border=\"1\" class=\"dataframe\">\n",
       "  <thead>\n",
       "    <tr style=\"text-align: right;\">\n",
       "      <th></th>\n",
       "      <th>Nomes</th>\n",
       "      <th>Ano</th>\n",
       "      <th>Quilometragem</th>\n",
       "      <th>Quilometragem/Ano</th>\n",
       "      <th>Novo/Usado</th>\n",
       "      <th>Valor</th>\n",
       "    </tr>\n",
       "  </thead>\n",
       "  <tbody>\n",
       "    <tr>\n",
       "      <th>79</th>\n",
       "      <td>Livina\\n</td>\n",
       "      <td>2019.0</td>\n",
       "      <td>0.0</td>\n",
       "      <td>0.0</td>\n",
       "      <td>1.0</td>\n",
       "      <td>50742.1</td>\n",
       "    </tr>\n",
       "  </tbody>\n",
       "</table>\n",
       "</div>"
      ],
      "text/plain": [
       "       Nomes     Ano  Quilometragem  Quilometragem/Ano  Novo/Usado    Valor\n",
       "79  Livina\\n  2019.0            0.0                0.0         1.0  50742.1"
      ]
     },
     "execution_count": 106,
     "metadata": {},
     "output_type": "execute_result"
    }
   ],
   "source": [
    "#Informação do carro mais barato da agência\n",
    "carros_df[carros_df['Valor']==min([min(carros_usados['Valor']),min(carros_novos['Valor'])])]"
   ]
  },
  {
   "cell_type": "code",
   "execution_count": 107,
   "metadata": {},
   "outputs": [
    {
     "data": {
      "text/html": [
       "<div>\n",
       "<style scoped>\n",
       "    .dataframe tbody tr th:only-of-type {\n",
       "        vertical-align: middle;\n",
       "    }\n",
       "\n",
       "    .dataframe tbody tr th {\n",
       "        vertical-align: top;\n",
       "    }\n",
       "\n",
       "    .dataframe thead th {\n",
       "        text-align: right;\n",
       "    }\n",
       "</style>\n",
       "<table border=\"1\" class=\"dataframe\">\n",
       "  <thead>\n",
       "    <tr style=\"text-align: right;\">\n",
       "      <th></th>\n",
       "      <th>Nomes</th>\n",
       "      <th>Ano</th>\n",
       "      <th>Quilometragem</th>\n",
       "      <th>Quilometragem/Ano</th>\n",
       "      <th>Novo/Usado</th>\n",
       "      <th>Valor</th>\n",
       "    </tr>\n",
       "  </thead>\n",
       "  <tbody>\n",
       "    <tr>\n",
       "      <th>227</th>\n",
       "      <td>X1\\n</td>\n",
       "      <td>1991.0</td>\n",
       "      <td>107.0</td>\n",
       "      <td>3.566667</td>\n",
       "      <td>0.0</td>\n",
       "      <td>102968.76</td>\n",
       "    </tr>\n",
       "  </tbody>\n",
       "</table>\n",
       "</div>"
      ],
      "text/plain": [
       "    Nomes     Ano  Quilometragem  Quilometragem/Ano  Novo/Usado      Valor\n",
       "227  X1\\n  1991.0          107.0           3.566667         0.0  102968.76"
      ]
     },
     "execution_count": 107,
     "metadata": {},
     "output_type": "execute_result"
    }
   ],
   "source": [
    "#Informação do carro mais conservado, ou seja, o carro usado com menor quilometragem/ano\n",
    "carros_usados[carros_usados['Quilometragem/Ano']==min(carros_usados['Quilometragem/Ano'])]"
   ]
  }
 ],
 "metadata": {
  "interpreter": {
   "hash": "c23ebac15574eb22a5fade7f9c6f0b5fc897d1c256dfe217e07f745066c92883"
  },
  "kernelspec": {
   "display_name": "Python 3.10.1 64-bit (windows store)",
   "language": "python",
   "name": "python3"
  },
  "language_info": {
   "codemirror_mode": {
    "name": "ipython",
    "version": 3
   },
   "file_extension": ".py",
   "mimetype": "text/x-python",
   "name": "python",
   "nbconvert_exporter": "python",
   "pygments_lexer": "ipython3",
   "version": "3.10.1"
  },
  "orig_nbformat": 4
 },
 "nbformat": 4,
 "nbformat_minor": 2
}
